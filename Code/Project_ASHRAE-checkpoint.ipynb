{
 "cells": [
  {
   "cell_type": "markdown",
   "metadata": {},
   "source": [
    "<h1 align=\"center\"> <span style=\"color:darkslategray\">ASHRAE</span><h1><h2 span align=\"center\"><span style=\"color:darkslategray\">A Nagy energia előrejelző versenypályázat III</h2><br/><h3 span align=\"center\"><span style=\"color:darkslategray\">Mennyi energiát fogyaszt egy épület?</span></h3>"
   ]
  },
  {
   "cell_type": "markdown",
   "metadata": {},
   "source": [
    "### <span style=\"color:dimgray\"> Csomagok importálása</span>"
   ]
  },
  {
   "cell_type": "code",
   "execution_count": null,
   "metadata": {},
   "outputs": [],
   "source": [
    "# Csomagok importálása validációhoz\n",
    "from sklearn.model_selection import RandomizedSearchCV\n",
    "from sklearn.model_selection import GridSearchCV\n",
    "from sklearn.model_selection import train_test_split\n",
    "from sklearn.model_selection import KFold\n",
    "from sklearn import metrics, model_selection\n",
    "\n",
    "# Csomagok importálása vizualizációhoz\n",
    "import matplotlib.pyplot as plt\n",
    "import seaborn as sns\n",
    "\n",
    "# Csomagok importálása modellezéshez\n",
    "import xgboost as xgb\n",
    "import catboost as cbt\n",
    "import lightgbm as lgbm\n",
    "\n",
    "# Általános csomagok importálása\n",
    "import pandas as pd\n",
    "import numpy as nd"
   ]
  }
 ],
 "metadata": {
  "kernelspec": {
   "display_name": "Python 3",
   "language": "python",
   "name": "python3"
  },
  "language_info": {
   "codemirror_mode": {
    "name": "ipython",
    "version": 3
   },
   "file_extension": ".py",
   "mimetype": "text/x-python",
   "name": "python",
   "nbconvert_exporter": "python",
   "pygments_lexer": "ipython3",
   "version": "3.7.1"
  }
 },
 "nbformat": 4,
 "nbformat_minor": 2
}
