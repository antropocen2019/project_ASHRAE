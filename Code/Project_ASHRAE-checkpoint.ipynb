{
 "cells": [
  {
   "cell_type": "markdown",
   "metadata": {},
   "source": [
    "<h1 align=\"center\"> <span style=\"color:darkslategray\">ASHRAE</span><h1><h2 span align=\"center\"><span style=\"color:darkslategray\">A Nagy energia előrejelző versenypályázat III</h2><br/><h3 span align=\"center\"><span style=\"color:darkslategray\">Mennyi energiát fogyaszt egy épület?</span></h3>"
   ]
  },
  {
   "cell_type": "markdown",
   "metadata": {},
   "source": [
    "### <span style=\"color:indigo\"> Fájlok:</span>"
   ]
  },
  {
   "cell_type": "markdown",
   "metadata": {},
   "source": [
    "<b>train.csv</b><br/>\n",
    "<ul>\n",
    "<li><i>building_id</i> - Idegen kulcs az épület metadata fájlhoz.</li><br/>\n",
    "<li><i>meter</i> - A mérő azonosító kódja (0: elektromosság (electricity), 1: vízhűtés (chilledwater), 2: gőz (steam), 3: melegvíz (hotwater). Nem minden épület rendelkezik minden mérő típussal.</li><br/>\n",
    "<li><i>timestamp</i> - az időpont, amikor a mérés megvalósult</li><br/>\n",
    "<li><i>meter_reading</i> - A célváltozó. Az energiafogyasztás kWh-ban kifejezve (vagy azzal ekvivalens). Valós adatok révén figyelembe kell venni a mérési hibát, mely a modellezési hibának az baseline szintjeként értelmezhető.</li>\n",
    "</ul>\n"
   ]
  },
  {
   "cell_type": "markdown",
   "metadata": {},
   "source": [
    "<b>building_meta.csv</b><br/>\n",
    "<ul>\n",
    "<li><i>site_id</i> - Idegen kulcs az időjárás fájlhoz.</li><br/>\n",
    "<li><i>building_id</i> - Idegen kulcs a training fájlhoz</li><br/>\n",
    "<li><i>primary_use</i> - Az épület elsődleges tevékenységének kategóriája  az EnergieStar ingatlan típus besorolása alapján</li><br/>\n",
    "<li><i>square_feet</i> - Az épület bruttó területe</li><br/>\n",
    "<li><i>year_built</i> - Az épület megynitásának időpontja</li><br/>\n",
    "<li><i>floor_count</i> - Az épület emeleteinek a száma</li><br/>\n",
    "</ul>"
   ]
  },
  {
   "cell_type": "code",
   "execution_count": null,
   "metadata": {},
   "outputs": [],
   "source": [
    "\n",
    "\n",
    "<b>building_meta.csv</b>\n",
    "\n",
    "    site_id - Foreign key for the weather files.\n",
    "    building_id - Foreign key for training.csv\n",
    "    primary_use - Indicator of the primary category of activities for the building based on EnergyStar property type definitions\n",
    "    square_feet - Gross floor area of the building\n",
    "    year_built - Year building was opened\n",
    "    floor_count - Number of floors of the building\n",
    "\n",
    "<b>weather_[train/test].csv</b>\n",
    "\n",
    "Weather data from a meteorological station as close as possible to the site.\n",
    "\n",
    "    site_id\n",
    "    air_temperature - Degrees Celsius\n",
    "    cloud_coverage - Portion of the sky covered in clouds, in oktas\n",
    "    dew_temperature - Degrees Celsius\n",
    "    precip_depth_1_hr - Millimeters\n",
    "    sea_level_pressure - Millibar/hectopascals\n",
    "    wind_direction - Compass direction (0-360)\n",
    "    wind_speed - Meters per second\n",
    "\n",
    "<b>test.csv</b>\n",
    "\n",
    "The submission files use row numbers for ID codes in order to save space on the file uploads. test.csv has no feature data; it exists so you can get your predictions into the correct order.\n",
    "\n",
    "    row_id - Row id for your submission file\n",
    "    building_id - Building id code\n",
    "    meter - The meter id code\n",
    "    timestamp - Timestamps for the test data period\n",
    "\n",
    "<b>sample_submission.csv</b>\n",
    "\n",
    "A valid sample submission.\n",
    "\n",
    "    All floats in the solution file were truncated to four decimal places; we recommend you do the same to save space on your file upload.\n",
    "    There are gaps in some of the meter readings for both the train and test sets. Gaps in the test set are not revealed or scored.\n"
   ]
  },
  {
   "cell_type": "markdown",
   "metadata": {},
   "source": [
    "### <span style=\"color:dimgray\"> Csomagok importálása</span>"
   ]
  },
  {
   "cell_type": "code",
   "execution_count": null,
   "metadata": {},
   "outputs": [],
   "source": [
    "# Csomagok importálása validációhoz\n",
    "from sklearn.model_selection import RandomizedSearchCV\n",
    "from sklearn.model_selection import GridSearchCV\n",
    "from sklearn.model_selection import train_test_split\n",
    "from sklearn.model_selection import KFold\n",
    "from sklearn import metrics, model_selection\n",
    "\n",
    "# Csomagok importálása vizualizációhoz\n",
    "import matplotlib.pyplot as plt\n",
    "import seaborn as sns\n",
    "\n",
    "# Csomagok importálása modellezéshez\n",
    "import xgboost as xgb\n",
    "import catboost as cbt\n",
    "import lightgbm as lgbm\n",
    "\n",
    "# Általános csomagok importálása\n",
    "import pandas as pd\n",
    "import numpy as nd"
   ]
  }
 ],
 "metadata": {
  "kernelspec": {
   "display_name": "Python 3",
   "language": "python",
   "name": "python3"
  },
  "language_info": {
   "codemirror_mode": {
    "name": "ipython",
    "version": 3
   },
   "file_extension": ".py",
   "mimetype": "text/x-python",
   "name": "python",
   "nbconvert_exporter": "python",
   "pygments_lexer": "ipython3",
   "version": "3.7.1"
  }
 },
 "nbformat": 4,
 "nbformat_minor": 2
}
